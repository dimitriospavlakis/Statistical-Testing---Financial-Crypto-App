{
 "cells": [
  {
   "cell_type": "markdown",
   "id": "238a63fc",
   "metadata": {},
   "source": [
    "# 1. Introduction"
   ]
  },
  {
   "cell_type": "markdown",
   "id": "64a6cb0b",
   "metadata": {},
   "source": [
    "**Background for Part 1:** This python notebook is the second part of my Financial Crypto App Project in which I generated synthetic, artificial data that resemble actual user and transaction data from a financial app or digital wallet. The key objective in the previous notebook was to simulate changes in two different timeframes after the introduction of a series of application modules in a hypothetical app whose aim was a system upgrade. The two dataframes are entitled \"df_pre_mod\" to refer to the pre-module dataframe and \"df_post_mod\" for the post-module dataframe. Please refer to my previous python notebook for more information entitled \"Artificially Generated Financial Crypto Datasets\".\n",
    "\n",
    "**Main Objective:** The key objective of this notebook is to provide the methodology on how to statistically assess differences between the two timeframes (before and after the modules were introduced to our hypothetical app).\n",
    "\n",
    "**Secondary Objective:** Prior to employing any statistical test, provide a realistic example of EDA (exploratory data analysis) on how we can spot any inconistencies, anomalous usage or data patterns."
   ]
  },
  {
   "cell_type": "markdown",
   "id": "3d0b4e04",
   "metadata": {},
   "source": [
    "**Variables/Columns:** I have chosen the following variables/columns to be present in each dataset:\n",
    "- trade_id: shows the transaction ID, it a unique column that can also function as a unique identifier in SQL databases if needed\n",
    "- user_id: shows the user ID, there must be several similar user IDs in the each dataset but also in-between datasets, but also allow several hypothetical users to \"leave\" the app after the modules have been introduced to simulate more realistic data\n",
    "- conf_date: stands for Confirmation Date, which is the date of confirmation for the initial transaction\n",
    "- leg 1 and 2 (type, amount, conf_status): Leg One and Leg Two are standard terms in financial apps and stand for the initial and secondary transaction process in the app. Leg_1_type illustrates the type of cryptocurrency (i.e. name), leg_1_amount illustrates the amount of each crypto traded/invested, leg_1_conf_status illustrates the outcomes of the transaction (I have choosen three to be featured: confirmed, pending, declined). Similar options must exist for the leg_2 variable.    "
   ]
  },
  {
   "cell_type": "markdown",
   "id": "77e80fa6",
   "metadata": {},
   "source": [
    "# 2. Exploratory Data Analysis"
   ]
  },
  {
   "cell_type": "code",
   "execution_count": 38,
   "id": "d0b80d68",
   "metadata": {},
   "outputs": [],
   "source": [
    "import scipy.stats as stats\n",
    "from scipy.stats import mannwhitneyu\n",
    "import random\n",
    "import string\n",
    "import matplotlib.pyplot as plt\n",
    "from datetime import datetime, timedelta\n",
    "from tabulate import tabulate\n",
    "import pandas as pd\n",
    "import numpy as np"
   ]
  },
  {
   "cell_type": "code",
   "execution_count": 8,
   "id": "c33ff166",
   "metadata": {},
   "outputs": [],
   "source": [
    "import warnings\n",
    "warnings.filterwarnings(\"ignore\")"
   ]
  },
  {
   "cell_type": "code",
   "execution_count": null,
   "id": "5e661468",
   "metadata": {},
   "outputs": [],
   "source": [
    "df_pre_mod = pd.read_csv('C:/path.../df_pre_mod.csv')\n",
    "df_post_mod = pd.read_csv('C:/path.../df_post_mod.csv')"
   ]
  },
  {
   "cell_type": "code",
   "execution_count": 10,
   "id": "f6696734",
   "metadata": {},
   "outputs": [
    {
     "data": {
      "text/html": [
       "<div>\n",
       "<style scoped>\n",
       "    .dataframe tbody tr th:only-of-type {\n",
       "        vertical-align: middle;\n",
       "    }\n",
       "\n",
       "    .dataframe tbody tr th {\n",
       "        vertical-align: top;\n",
       "    }\n",
       "\n",
       "    .dataframe thead th {\n",
       "        text-align: right;\n",
       "    }\n",
       "</style>\n",
       "<table border=\"1\" class=\"dataframe\">\n",
       "  <thead>\n",
       "    <tr style=\"text-align: right;\">\n",
       "      <th></th>\n",
       "      <th>trade_id</th>\n",
       "      <th>user_id</th>\n",
       "      <th>conf_date</th>\n",
       "      <th>leg_1_type</th>\n",
       "      <th>leg_1_amount</th>\n",
       "      <th>leg_1_conf_status</th>\n",
       "      <th>leg_2_type</th>\n",
       "      <th>leg_2_amount</th>\n",
       "      <th>leg_2_conf_status</th>\n",
       "    </tr>\n",
       "  </thead>\n",
       "  <tbody>\n",
       "    <tr>\n",
       "      <th>0</th>\n",
       "      <td>641OKk454dVpm</td>\n",
       "      <td>960tveyimat</td>\n",
       "      <td>2022-01-03</td>\n",
       "      <td>Ethereum Classic</td>\n",
       "      <td>124.19</td>\n",
       "      <td>pending</td>\n",
       "      <td>Illuvium</td>\n",
       "      <td>Unknown</td>\n",
       "      <td>pending</td>\n",
       "    </tr>\n",
       "    <tr>\n",
       "      <th>1</th>\n",
       "      <td>998INa6jZZi1V</td>\n",
       "      <td>960tveyimat</td>\n",
       "      <td>2022-03-23</td>\n",
       "      <td>IOTA</td>\n",
       "      <td>67.69</td>\n",
       "      <td>pending</td>\n",
       "      <td>Neo</td>\n",
       "      <td>Unknown</td>\n",
       "      <td>pending</td>\n",
       "    </tr>\n",
       "    <tr>\n",
       "      <th>2</th>\n",
       "      <td>534VKk0D7QNdU</td>\n",
       "      <td>960tveyimat</td>\n",
       "      <td>2022-06-03</td>\n",
       "      <td>Ethereum Classic</td>\n",
       "      <td>14.55</td>\n",
       "      <td>pending</td>\n",
       "      <td>LINK</td>\n",
       "      <td>Unknown</td>\n",
       "      <td>pending</td>\n",
       "    </tr>\n",
       "  </tbody>\n",
       "</table>\n",
       "</div>"
      ],
      "text/plain": [
       "        trade_id      user_id   conf_date        leg_1_type  leg_1_amount  \\\n",
       "0  641OKk454dVpm  960tveyimat  2022-01-03  Ethereum Classic        124.19   \n",
       "1  998INa6jZZi1V  960tveyimat  2022-03-23              IOTA         67.69   \n",
       "2  534VKk0D7QNdU  960tveyimat  2022-06-03  Ethereum Classic         14.55   \n",
       "\n",
       "  leg_1_conf_status leg_2_type leg_2_amount leg_2_conf_status  \n",
       "0           pending   Illuvium      Unknown           pending  \n",
       "1           pending        Neo      Unknown           pending  \n",
       "2           pending       LINK      Unknown           pending  "
      ]
     },
     "execution_count": 10,
     "metadata": {},
     "output_type": "execute_result"
    }
   ],
   "source": [
    "df_pre_mod.head(3)"
   ]
  },
  {
   "cell_type": "code",
   "execution_count": 11,
   "id": "48a2c8fa",
   "metadata": {},
   "outputs": [
    {
     "data": {
      "text/html": [
       "<div>\n",
       "<style scoped>\n",
       "    .dataframe tbody tr th:only-of-type {\n",
       "        vertical-align: middle;\n",
       "    }\n",
       "\n",
       "    .dataframe tbody tr th {\n",
       "        vertical-align: top;\n",
       "    }\n",
       "\n",
       "    .dataframe thead th {\n",
       "        text-align: right;\n",
       "    }\n",
       "</style>\n",
       "<table border=\"1\" class=\"dataframe\">\n",
       "  <thead>\n",
       "    <tr style=\"text-align: right;\">\n",
       "      <th></th>\n",
       "      <th>trade_id</th>\n",
       "      <th>user_id</th>\n",
       "      <th>conf_date</th>\n",
       "      <th>leg_1_type</th>\n",
       "      <th>leg_1_amount</th>\n",
       "      <th>leg_1_conf_status</th>\n",
       "      <th>leg_2_type</th>\n",
       "      <th>leg_2_amount</th>\n",
       "      <th>leg_2_conf_status</th>\n",
       "    </tr>\n",
       "  </thead>\n",
       "  <tbody>\n",
       "    <tr>\n",
       "      <th>0</th>\n",
       "      <td>723caaXA0YO7c</td>\n",
       "      <td>811rbsjbfvi</td>\n",
       "      <td>2022-08-27</td>\n",
       "      <td>GMX</td>\n",
       "      <td>64.37</td>\n",
       "      <td>confirmed</td>\n",
       "      <td>GateToken</td>\n",
       "      <td>Unknown</td>\n",
       "      <td>confirmed</td>\n",
       "    </tr>\n",
       "    <tr>\n",
       "      <th>1</th>\n",
       "      <td>703OgOAauuRk5</td>\n",
       "      <td>811rbsjbfvi</td>\n",
       "      <td>2022-10-25</td>\n",
       "      <td>Solana</td>\n",
       "      <td>91.48</td>\n",
       "      <td>confirmed</td>\n",
       "      <td>Bitcoin SV</td>\n",
       "      <td>Unknown</td>\n",
       "      <td>confirmed</td>\n",
       "    </tr>\n",
       "    <tr>\n",
       "      <th>2</th>\n",
       "      <td>909tUGkUOeulV</td>\n",
       "      <td>811rbsjbfvi</td>\n",
       "      <td>2022-09-29</td>\n",
       "      <td>Solana</td>\n",
       "      <td>274.81</td>\n",
       "      <td>pending</td>\n",
       "      <td>Gnosis</td>\n",
       "      <td>Unknown</td>\n",
       "      <td>pending</td>\n",
       "    </tr>\n",
       "  </tbody>\n",
       "</table>\n",
       "</div>"
      ],
      "text/plain": [
       "        trade_id      user_id   conf_date leg_1_type  leg_1_amount  \\\n",
       "0  723caaXA0YO7c  811rbsjbfvi  2022-08-27        GMX         64.37   \n",
       "1  703OgOAauuRk5  811rbsjbfvi  2022-10-25     Solana         91.48   \n",
       "2  909tUGkUOeulV  811rbsjbfvi  2022-09-29     Solana        274.81   \n",
       "\n",
       "  leg_1_conf_status  leg_2_type leg_2_amount leg_2_conf_status  \n",
       "0         confirmed   GateToken      Unknown         confirmed  \n",
       "1         confirmed  Bitcoin SV      Unknown         confirmed  \n",
       "2           pending      Gnosis      Unknown           pending  "
      ]
     },
     "execution_count": 11,
     "metadata": {},
     "output_type": "execute_result"
    }
   ],
   "source": [
    "df_post_mod.head(3)"
   ]
  },
  {
   "cell_type": "markdown",
   "id": "92f21b17",
   "metadata": {},
   "source": [
    "## 2.1 Addressing Confirmation Status"
   ]
  },
  {
   "cell_type": "markdown",
   "id": "6111af8e",
   "metadata": {},
   "source": [
    "\n",
    "Getting a deeper understand each dataset is an important aspect that we need to address in every pre-processing and feature engineering section. For this particular dataset it is important to note that certain transactions that have been succesfully initiated might not be succesfully completed. This is reflected in the confirmation status of two key variables: [leg_1_conf_status] and [leg_2_conf_status]."
   ]
  },
  {
   "cell_type": "markdown",
   "id": "d5b0fceb",
   "metadata": {},
   "source": [
    "There are three possible choices for each confirmation status variable:"
   ]
  },
  {
   "cell_type": "code",
   "execution_count": 13,
   "id": "456b3be5",
   "metadata": {
    "scrolled": true
   },
   "outputs": [
    {
     "name": "stdout",
     "output_type": "stream",
     "text": [
      "Initial confirmation status (leg_1) options:\n",
      " ['confirmed' 'declined' 'pending']\n",
      "\n",
      "Secondary confirmation status (leg_2) options:\n",
      " ['confirmed' 'declined' 'pending']\n"
     ]
    }
   ],
   "source": [
    "print(f\"Initial confirmation status (leg_1) options:\\n {np.unique(df_pre_mod['leg_1_conf_status'])}\")\n",
    "print(f\"\\nSecondary confirmation status (leg_2) options:\\n {np.unique(df_pre_mod['leg_2_conf_status'])}\")"
   ]
  },
  {
   "cell_type": "markdown",
   "id": "02cf39a7",
   "metadata": {},
   "source": [
    "The leg_1 variable relates to the initial action of a trade, contract, transcation between two parties (the purchase of a crypto-currency in our example) and leg_2 refers to the second part of said transaction (e.g a currency swap).\n",
    "\n",
    "In our dataset it appears that while we have an overwhelming majority of leg_1 'confirmed' statuses, we also have a not insignificant amount of 'pending' and 'declined' statuses.\n",
    "\n",
    "Let us ascertain the nature of the 'pending' and 'declined' transactions to get to the bottom of this issue."
   ]
  },
  {
   "cell_type": "markdown",
   "id": "df35c9f4",
   "metadata": {},
   "source": [
    "## 2.2 Pre-Module Confirmation Status"
   ]
  },
  {
   "cell_type": "code",
   "execution_count": 16,
   "id": "9ef8156b",
   "metadata": {},
   "outputs": [
    {
     "name": "stdout",
     "output_type": "stream",
     "text": [
      "\n",
      "Table A: Pre-Module Standard Value Counts and Percentages of leg_1 and leg_2 confirmation status\n",
      "+-----------------------+-------------------------+---------------------+-------------------------+---------------------+\n",
      "| Confirmation Status   |   Standard Counts(leg1) |   %Percentage(leg1) |   Standard Counts(leg2) |   %Percentage(leg2) |\n",
      "|-----------------------+-------------------------+---------------------+-------------------------+---------------------|\n",
      "| confirmed             |                     807 |               85.94 |                     718 |               76.46 |\n",
      "| pending               |                      92 |                9.8  |                     162 |               17.25 |\n",
      "| declined              |                      40 |                4.26 |                      59 |                6.28 |\n",
      "+-----------------------+-------------------------+---------------------+-------------------------+---------------------+\n"
     ]
    }
   ],
   "source": [
    "# standard value counts\n",
    "leg_1_conf_status_counts = df_pre_mod['leg_1_conf_status'].value_counts()\n",
    "leg_2_conf_status_counts = df_pre_mod['leg_2_conf_status'].value_counts()\n",
    "\n",
    "# value counts as percentages\n",
    "leg_1_conf_status_perc = (leg_1_conf_status_counts / leg_1_conf_status_counts.sum() * 100).round(2)\n",
    "leg_2_conf_status_perc = (df_pre_mod[\"leg_2_conf_status\"].value_counts(normalize=True) * 100).round(2)\n",
    "\n",
    "# Combining into a single table\n",
    "combined_table = pd.concat([leg_1_conf_status_counts, leg_1_conf_status_perc, leg_2_conf_status_counts, leg_2_conf_status_perc], axis=1)\n",
    "\n",
    "# Renaming columns\n",
    "combined_table.columns = ['Standard Counts(leg1)', '%Percentage(leg1)', 'Standard Counts(leg2)', '%Percentage(leg2)']\n",
    "\n",
    "# Reset index and set confirmation status as a separate column\n",
    "combined_table = combined_table.reset_index().rename(columns={'index':'Confirmation Status'})\n",
    "\n",
    "# Printing tabulated table\n",
    "print(\"\\nTable A: Pre-Module Standard Value Counts and Percentages of leg_1 and leg_2 confirmation status\")\n",
    "print(tabulate(combined_table, headers='keys', tablefmt='psql', showindex=False))"
   ]
  },
  {
   "cell_type": "markdown",
   "id": "0d792a8d",
   "metadata": {},
   "source": [
    "## 2.2 Post-Module Confirmation Status"
   ]
  },
  {
   "cell_type": "code",
   "execution_count": 17,
   "id": "3b3fad98",
   "metadata": {},
   "outputs": [
    {
     "name": "stdout",
     "output_type": "stream",
     "text": [
      "\n",
      "Table B: Post-Module Standard Value Counts and Percentages of leg_1 and leg_2 confirmation status\n",
      "+-----------------------+-------------------------+---------------------+-------------------------+---------------------+\n",
      "| Confirmation Status   |   Standard Counts(leg1) |   %Percentage(leg1) |   Standard Counts(leg2) |   %Percentage(leg2) |\n",
      "|-----------------------+-------------------------+---------------------+-------------------------+---------------------|\n",
      "| confirmed             |                    1167 |               73.53 |                     895 |               56.4  |\n",
      "| pending               |                     249 |               15.69 |                     414 |               26.09 |\n",
      "| declined              |                     171 |               10.78 |                     278 |               17.52 |\n",
      "+-----------------------+-------------------------+---------------------+-------------------------+---------------------+\n"
     ]
    }
   ],
   "source": [
    "# standard value counts\n",
    "leg_1_conf_status_counts = df_post_mod['leg_1_conf_status'].value_counts()\n",
    "leg_2_conf_status_counts = df_post_mod['leg_2_conf_status'].value_counts()\n",
    "\n",
    "# value counts as percentages\n",
    "leg_1_conf_status_perc = (leg_1_conf_status_counts / leg_1_conf_status_counts.sum() * 100).round(2)\n",
    "leg_2_conf_status_perc = (df_post_mod[\"leg_2_conf_status\"].value_counts(normalize=True) * 100).round(2)\n",
    "\n",
    "# Combining into a single table\n",
    "combined_table = pd.concat([leg_1_conf_status_counts, leg_1_conf_status_perc, leg_2_conf_status_counts, leg_2_conf_status_perc], axis=1)\n",
    "\n",
    "# Renaming columns\n",
    "combined_table.columns = ['Standard Counts(leg1)', '%Percentage(leg1)', 'Standard Counts(leg2)', '%Percentage(leg2)']\n",
    "\n",
    "# Reset index and set confirmation status as a separate column\n",
    "combined_table = combined_table.reset_index().rename(columns={'index':'Confirmation Status'})\n",
    "\n",
    "# Printing tabulated table\n",
    "print(\"\\nTable B: Post-Module Standard Value Counts and Percentages of leg_1 and leg_2 confirmation status\")\n",
    "print(tabulate(combined_table, headers='keys', tablefmt='psql', showindex=False))"
   ]
  },
  {
   "cell_type": "markdown",
   "id": "c7db941a",
   "metadata": {},
   "source": [
    "## 2.3 Key issue found in transaction status"
   ]
  },
  {
   "cell_type": "markdown",
   "id": "fa6cdd37",
   "metadata": {},
   "source": [
    "It looks like we have discovered a problem that merits additional attention and can easily be described as a top-priority concern!\n",
    "\n",
    "After the module deployment it appears that users transactions have an extremely high chance to be classified as 'pending' or 'declined', while the 'confirmed' status has decreased considerably! In practice, this means that something \"breaks\" the 'confirmed' status of our transactions.\n",
    "\n",
    "We need to investigate further and figure out how many first-stage (leg1) confirmed transactions failed to be successful in second-stage (leg2)"
   ]
  },
  {
   "cell_type": "code",
   "execution_count": 18,
   "id": "0ad7350d",
   "metadata": {},
   "outputs": [
    {
     "name": "stdout",
     "output_type": "stream",
     "text": [
      "\n",
      "Investigating transactions AFTER the modules have been deployed (df_post_mod)\n",
      "\n",
      "Number of first stage (leg1) 'confirmed' transactions that are REJECTED in second stage (leg2): -> 107\n",
      "\n",
      "Number of first stage (leg1) 'confirmed' transactions that are PENDING in second stage (leg2): -> 165\n"
     ]
    }
   ],
   "source": [
    "print(\"\\nInvestigating transactions AFTER the modules have been deployed (df_post_mod)\")\n",
    "print(f\"\\nNumber of first stage (leg1) 'confirmed' transactions that are REJECTED in second stage (leg2): -> {len(df_post_mod[(df_post_mod['leg_1_conf_status'] == 'confirmed') & (df_post_mod['leg_2_conf_status'] == 'declined')])}\")\n",
    "print(f\"\\nNumber of first stage (leg1) 'confirmed' transactions that are PENDING in second stage (leg2): -> {len(df_post_mod[(df_post_mod['leg_1_conf_status'] == 'confirmed') & (df_post_mod['leg_2_conf_status'] == 'pending')])}\")"
   ]
  },
  {
   "cell_type": "markdown",
   "id": "dc159f33",
   "metadata": {},
   "source": [
    "## 2.4 Anomaly Located - Reformulating objectives"
   ]
  },
  {
   "cell_type": "markdown",
   "id": "1d7660ec",
   "metadata": {},
   "source": [
    "Alright, we have uncovered valuable information and a potentially detrimental issue introduced by the new system upgrades.\n",
    "\n",
    "This calls for additional investigation. We cannot continue with our original statistical testing objective unless we first get to the bottom of this pressing issue: our customers' transactions are not processed properly.\n",
    "\n",
    "**Coordinate with backend:** First things first, we let our team know immediately and we provide assistance to our backend colleagues to determine the cause of the issue (which in this case is the installation of the new modules).\n",
    "\n",
    "**Coordinate with project manager:** Second, we investigate further to determine the breadth of the problem. We must brief the project manager and provide top-level data to assist our colleagues understand what we have uncovered.\n",
    "\n",
    "**Precise and straightfoward:** We have to put our initial statistical examination aside for a moment. At this moment we must provide information in a straightfoward, simple manner, without sacrificing accuracy over speed.\n",
    "\n",
    "---\n",
    "---\n",
    "Let's get to work."
   ]
  },
  {
   "cell_type": "markdown",
   "id": "00cb9549",
   "metadata": {},
   "source": [
    "First, diving deeper into the confirmation status for both datasets, we will investigate how many \"confirmed\" transactions in the initial phase (leg 1) were converted to \"pending\" or \"declined\" and sum them into a single ratio for easier readability: confirmed versus non-confirmed."
   ]
  },
  {
   "cell_type": "code",
   "execution_count": 19,
   "id": "7cc05f9d",
   "metadata": {},
   "outputs": [
    {
     "name": "stdout",
     "output_type": "stream",
     "text": [
      "\n",
      "Table C: Confirmation Status\n",
      "+-------------+--------------------------+------------------------+-------------------------+-------------------------+\n",
      "| Dataset     |   Confirmed-to-confirmed |   Confirmed-to-pending |   Confirmed-to-declined |   %Ratio: Non-Confirmed |\n",
      "+=============+==========================+========================+=========================+=========================+\n",
      "| PRE-module  |                      718 |                     70 |                      19 |                   0.095 |\n",
      "+-------------+--------------------------+------------------------+-------------------------+-------------------------+\n",
      "| POST-module |                      895 |                    165 |                     107 |                   0.171 |\n",
      "+-------------+--------------------------+------------------------+-------------------------+-------------------------+\n"
     ]
    }
   ],
   "source": [
    "pre_conf_to_conf = len(df_pre_mod[(df_pre_mod['leg_1_conf_status'] == 'confirmed') & (df_pre_mod['leg_2_conf_status'] == 'confirmed')])\n",
    "pre_conf_to_pen = len(df_pre_mod[(df_pre_mod['leg_1_conf_status'] == 'confirmed') & (df_pre_mod['leg_2_conf_status'] == 'pending')])\n",
    "pre_conf_to_dec = len(df_pre_mod[(df_pre_mod['leg_1_conf_status'] == 'confirmed') & (df_pre_mod['leg_2_conf_status'] == 'declined')])\n",
    "post_conf_to_conf = len(df_post_mod[(df_post_mod['leg_1_conf_status'] == 'confirmed') & (df_post_mod['leg_2_conf_status'] == 'confirmed')])\n",
    "post_conf_to_pen = len(df_post_mod[(df_post_mod['leg_1_conf_status'] == 'confirmed') & (df_post_mod['leg_2_conf_status'] == 'pending')])\n",
    "post_conf_to_dec = len(df_post_mod[(df_post_mod['leg_1_conf_status'] == 'confirmed') & (df_post_mod['leg_2_conf_status'] == 'declined')])\n",
    "\n",
    "# This ratio measures the %percentage of non-confirmed transactions from both leg_1 and leg_2\n",
    "# i.e. the percentage of both pending and declined transactions in the entire dataset\n",
    "pre_ratio = round((pre_conf_to_pen + pre_conf_to_dec)/len(df_pre_mod['leg_1_conf_status']),3)\n",
    "post_ratio = round((post_conf_to_pen + post_conf_to_dec)/len(df_post_mod['leg_1_conf_status']),3)\n",
    "\n",
    "headers = ['Dataset', 'Confirmed-to-confirmed', 'Confirmed-to-pending', 'Confirmed-to-declined', '%Ratio: Non-Confirmed']\n",
    "table_data = [['PRE-module', pre_conf_to_conf, pre_conf_to_pen, pre_conf_to_dec, pre_ratio],\n",
    "              ['POST-module', post_conf_to_conf, post_conf_to_pen, post_conf_to_dec, post_ratio]\n",
    "             ]\n",
    "print(\"\\nTable C: Confirmation Status\")\n",
    "print(tabulate(table_data, headers=headers, tablefmt='grid'))"
   ]
  },
  {
   "cell_type": "markdown",
   "id": "dc3d762c",
   "metadata": {},
   "source": [
    "---\n",
    "Now, let us check a few top-level user and transaction statistics."
   ]
  },
  {
   "cell_type": "code",
   "execution_count": 20,
   "id": "956a3c75",
   "metadata": {},
   "outputs": [
    {
     "name": "stdout",
     "output_type": "stream",
     "text": [
      "Table D: Transactions and User Data\n",
      "+-------------+--------------------------+--------------------------+----------------------------------+\n",
      "| Dataset     |   Number of transactions |   Number of unique users |   Average number of transactions |\n",
      "|             |                          |                          |                  per unique user |\n",
      "+=============+==========================+==========================+==================================+\n",
      "| PRE-module  |                      939 |                      140 |                             6.71 |\n",
      "+-------------+--------------------------+--------------------------+----------------------------------+\n",
      "| POST-module |                     1587 |                      185 |                             8.58 |\n",
      "+-------------+--------------------------+--------------------------+----------------------------------+\n"
     ]
    }
   ],
   "source": [
    "pre_tr_users = round(len(df_pre_mod)/len(np.unique(df_pre_mod['user_id'])),2)\n",
    "post_tr_users = round(len(df_post_mod)/len(np.unique(df_post_mod['user_id'])),2)\n",
    "\n",
    "headers = ['Dataset', 'Number of transactions', 'Number of unique users', 'Average number of transactions\\n per unique user']\n",
    "table_data = [['PRE-module', len(df_pre_mod), len(np.unique(df_pre_mod['user_id'])), pre_tr_users],\n",
    "              ['POST-module', len(df_post_mod), len(np.unique(df_post_mod['user_id'])), post_tr_users]\n",
    "             ]\n",
    "print(\"Table D: Transactions and User Data\")\n",
    "print(tabulate(table_data, headers=headers, tablefmt='grid'))"
   ]
  },
  {
   "cell_type": "markdown",
   "id": "895f412a",
   "metadata": {},
   "source": [
    "## 2.5 EDA - Results"
   ]
  },
  {
   "cell_type": "markdown",
   "id": "22233774",
   "metadata": {},
   "source": [
    "This is... not optimal to say the least.\n",
    "\n",
    "- We managed to increase both our user base and the number of financial transactions in app after the modules have been deployed as is shown in Table D above\n",
    "- However, we have a sharp contrast in the confirmation status in Table C. \n",
    "- Looking at Table D we can clearly see that while in the pre-module timeframe our confirmation status was working properly, it was seriously affected after the module introduction!\n",
    "\n",
    "In practical terms, this means that all transactions that were initially (leg 1) \"confirmed\" did NOT reverse to \"pending\" or \"declined\" in the next stage (leg 2) (Table F, pre-module). However, the same cannot be said in the post-module dataframe, where a large number of initially \"confirmed\" transactions were either \"declined\" or \"pending\" in the follow-up stage (leg 2)."
   ]
  },
  {
   "cell_type": "markdown",
   "id": "4c7de124",
   "metadata": {},
   "source": [
    "For the time being, this will conclude our report to our colleagues. We have located a most pressing issue that (if left unchecked) can severely affect our user base, we have the analytics to back up our claim, and a top-level overview of how many transactions (and at what ratio) where affected.\n",
    "\n",
    "We can now continue with our pre-processing and feature engineering and perform a t-test to assess the statistical significance of the application changes."
   ]
  },
  {
   "cell_type": "markdown",
   "id": "f71475d7",
   "metadata": {},
   "source": [
    "# 3. Statistical Testing"
   ]
  },
  {
   "cell_type": "markdown",
   "id": "776eae8f",
   "metadata": {},
   "source": [
    "## 3.1 Overview\n",
    "\n",
    "**What is a test statistic?** A test statistic is the result from a statical method calculated from sample data that is used to determine whether we can reject or fail to reject a null hypothesis. In the industry this is also sometimes referred to as \"AB Testing\", with t-tests being the most popular statistical tests.\n",
    "\n",
    "**What is AB Testing?** AB Testing refers is the general term used to compare the effectiveness of an intervention method on two or more groups/samples. AB testing can include any number of tests including t-tests (2 groups), ANOVA (3+ groups), etc.\n",
    "\n",
    "**What is a t-test?** A t-test is a specific type of test statistic used to compared to means either of two groups or one group with a population. In statistics terms it can help us provide evidence on whether we can reject or fail to reject a null hypothesis by measuring whether there is any significant difference between our sample means.\n",
    "\n",
    "**In simple terms:** *To put it simply, a t-test can help understand if there is indeed an actual effect in our tests, but it cannot show us the magnitude of that effect.*"
   ]
  },
  {
   "cell_type": "markdown",
   "id": "01e83fae",
   "metadata": {},
   "source": [
    "### Assumptions/Requirements\n",
    "\n",
    "There are four key assumptions that we will to keep in mind before running a t-test:\n",
    "\n",
    "**1) Discrete & Categorical Data:** First, a t-test can only be applied to numerical data. This includes both a) data that are measured on a continuous scale (in programming commonly referred as float data types) and also b) discrete data (e.g. integer).\n",
    "\n",
    "*Note: This excludes other types of data like nominal (e.g. string objects, or boolean), categorical (e.g. dat with unordered structure or order) or ordinal (e.g. categorical data used as factors or strata with an underlying hierarchical order structure)*\n",
    "\n",
    "**2) Independent samples:** This means that the samples we are comparing should be independent from one another and that observations in one sample cannot influence or be influenced by the observations of the other sample.\n",
    "\n",
    "**3) Normal distribution:** The data is expected to follow a normal distribution, commonly referred to as a bell curve. \n",
    "\n",
    "**4) Equal variance:** The variance of the two samples is expected to be equal.\n"
   ]
  },
  {
   "cell_type": "markdown",
   "id": "353ea653",
   "metadata": {},
   "source": [
    "### Variations of t-tests\n",
    "\n",
    "t-tests are usually performed on two samples but can also be used to compare a sample mean with a population. In principal there are three main categories:\n",
    "\n",
    "**1.a) One-sample t-test:** used to compare the mean of a single group sample versus a population mean of a hypothesized value assuming equal distribution.\n",
    "\n",
    "**1.b) Indepedent samples t-test:** This test is used to compare the means of two indepedent groups and can be either one-tailed or two-tailed tests (also referred to as unpaired samples t-test).\n",
    "\n",
    "**1.c) Dependent samples t-test:** This test is used to compare the means of the same group before and after an experimental change."
   ]
  },
  {
   "cell_type": "markdown",
   "id": "d00edae3",
   "metadata": {},
   "source": [
    "## 3.2 Setting Hypothesis"
   ]
  },
  {
   "cell_type": "markdown",
   "id": "0823a9af",
   "metadata": {},
   "source": [
    "For this particular project our **research focus** is whether or not users (specifically *non-low usage* users) increase their frequency of trades after the new modules have been introduced.\n",
    "\n",
    "**Operational definition for low-usage users**: Low-usage users are defined as the users that hold less than the Q1 (1rst quartile, or the values that are found below the 25th percentile, or 25% of data points) of the variable/column entitled \"leg_1_amount\". In short, we are not interested in the users that appear to show a low transaction pattern. Note that the Q2 or the 50th percentile is the median."
   ]
  },
  {
   "cell_type": "markdown",
   "id": "c59e30cc",
   "metadata": {},
   "source": [
    "To state the above more precicely:\n",
    "\n",
    "**H0 (Null Hypothesis):** There is no statistically significant increase in the frequency of transactions made by non low-usage users after the introduction of the new modules\n",
    "\n",
    "**H1 (Alternative Hypothesis):** There is a statistically significant increase in the frequency of transactions made non low-usage users after the introduction of the new modules.\n",
    "\n",
    "-----\n",
    "\n",
    "This can also be stated symbolically as:\n",
    "\n",
    "**H0: µ1 = µ2** \n",
    "\n",
    "**H1: µ1 < µ2 or µ1 ≠ µ2** \n",
    "\n",
    "Where µ1 is the mean frequency of transactions made by non-low usage users before the introduction of new modules, and µ2 is the mean frequency of transactions made by non-low usage users after the introduction of new modules.\n",
    "\n",
    "(Note that depending on the directionality of the alternative hypothesis, we can use either a one-tailed or two-tailed test)\n",
    "\n",
    "-----"
   ]
  },
  {
   "cell_type": "markdown",
   "id": "b1396647",
   "metadata": {},
   "source": [
    "## 3.3. Feature Engineering"
   ]
  },
  {
   "cell_type": "markdown",
   "id": "6fa330d0",
   "metadata": {},
   "source": [
    "As is always the case, we need to perform various feature engineering methods to manipulate the data prior to additional exploration, and to fit our research hypotheses."
   ]
  },
  {
   "cell_type": "markdown",
   "id": "178056ad",
   "metadata": {},
   "source": [
    "### 3.3.1 Infusing our original datasets with crypto-currency prices in USD"
   ]
  },
  {
   "cell_type": "markdown",
   "id": "8f51da06",
   "metadata": {},
   "source": [
    "The next item in the agenda is to subtract from our datasets the users below the first quartile (in frequency and amount of trade transactions). However, the column dealing with the type of cryptocurrency types entitled [leg_1_type] and the column dealing with the amount of said cryptocurrency trades [leg_1_amount] cannot be used as filters at this moment since **they are not standardized** under one single currency making comparisons virtually impossible.\n",
    "\n",
    "For example, we cannot compare or perform any mathematical operations between a user that trades in the IOTA crypto and another that trades in Ethereum Classic. Let us add a column using United States Dollar (USD) as a means to standardize our filtering process.\n",
    "\n",
    "As expected, our financial app dataset which focuses on user transactions obviously does not contain such data but we can utilize any information freely found online. For example the popular website CoinMarketCap (https://coinmarketcap.com/) contains extensive information about cryptocurrency prices, market cap, circulating supply, etc.\n",
    "\n",
    "We can use that information to infuse our original datasets."
   ]
  },
  {
   "cell_type": "markdown",
   "id": "58412301",
   "metadata": {},
   "source": [
    "#### Pre-Module Dataset:"
   ]
  },
  {
   "cell_type": "code",
   "execution_count": 178,
   "id": "6881e0fd",
   "metadata": {},
   "outputs": [
    {
     "data": {
      "text/html": [
       "<div>\n",
       "<style scoped>\n",
       "    .dataframe tbody tr th:only-of-type {\n",
       "        vertical-align: middle;\n",
       "    }\n",
       "\n",
       "    .dataframe tbody tr th {\n",
       "        vertical-align: top;\n",
       "    }\n",
       "\n",
       "    .dataframe thead th {\n",
       "        text-align: right;\n",
       "    }\n",
       "</style>\n",
       "<table border=\"1\" class=\"dataframe\">\n",
       "  <thead>\n",
       "    <tr style=\"text-align: right;\">\n",
       "      <th></th>\n",
       "      <th>Rank</th>\n",
       "      <th>Name</th>\n",
       "      <th>Symbol</th>\n",
       "      <th>Market Cap</th>\n",
       "      <th>Price</th>\n",
       "      <th>Circulating Supply</th>\n",
       "      <th>Volume(24h)</th>\n",
       "      <th>% 1h</th>\n",
       "      <th>% 24h</th>\n",
       "      <th>% 7d</th>\n",
       "    </tr>\n",
       "  </thead>\n",
       "  <tbody>\n",
       "    <tr>\n",
       "      <th>0</th>\n",
       "      <td>1</td>\n",
       "      <td>Bitcoin</td>\n",
       "      <td>BTC</td>\n",
       "      <td>$547,640,763,681</td>\n",
       "      <td>$28,336.85</td>\n",
       "      <td>19,326,100 BTC</td>\n",
       "      <td>$25,865,789,010</td>\n",
       "      <td>1.19%</td>\n",
       "      <td>5.52%</td>\n",
       "      <td>13.44%</td>\n",
       "    </tr>\n",
       "    <tr>\n",
       "      <th>1</th>\n",
       "      <td>2</td>\n",
       "      <td>Ethereum</td>\n",
       "      <td>ETH</td>\n",
       "      <td>$222,745,947,392</td>\n",
       "      <td>$1,820.21</td>\n",
       "      <td>122,373,866 ETH *</td>\n",
       "      <td>$11,628,254,768</td>\n",
       "      <td>0.80%</td>\n",
       "      <td>5.50%</td>\n",
       "      <td>8.20%</td>\n",
       "    </tr>\n",
       "    <tr>\n",
       "      <th>2</th>\n",
       "      <td>3</td>\n",
       "      <td>Tether</td>\n",
       "      <td>USDT</td>\n",
       "      <td>$78,209,590,806</td>\n",
       "      <td>$1.00</td>\n",
       "      <td>78,046,247,908 USDT *</td>\n",
       "      <td>$42,133,540,517</td>\n",
       "      <td>0.08%</td>\n",
       "      <td>0.03%</td>\n",
       "      <td>-0.09%</td>\n",
       "    </tr>\n",
       "  </tbody>\n",
       "</table>\n",
       "</div>"
      ],
      "text/plain": [
       "   Rank      Name Symbol         Market Cap        Price  \\\n",
       "0     1   Bitcoin    BTC  $547,640,763,681   $28,336.85    \n",
       "1     2  Ethereum    ETH  $222,745,947,392    $1,820.21    \n",
       "2     3    Tether   USDT   $78,209,590,806        $1.00    \n",
       "\n",
       "      Circulating Supply       Volume(24h)   % 1h  % 24h    % 7d  \n",
       "0         19,326,100 BTC  $25,865,789,010   1.19%  5.52%  13.44%  \n",
       "1      122,373,866 ETH *  $11,628,254,768   0.80%  5.50%   8.20%  \n",
       "2  78,046,247,908 USDT *  $42,133,540,517   0.08%  0.03%  -0.09%  "
      ]
     },
     "execution_count": 178,
     "metadata": {},
     "output_type": "execute_result"
    }
   ],
   "source": [
    "# reading aour new crypto csv with information from CoinMarketCap with price information in USD\n",
    "df_cryptos = pd.read_csv('C:/path.../cryptos_coinmarketcap_.csv')\n",
    "\n",
    "df_cryptos.head(3)"
   ]
  },
  {
   "cell_type": "code",
   "execution_count": 21,
   "id": "92120883",
   "metadata": {},
   "outputs": [
    {
     "data": {
      "text/html": [
       "<div>\n",
       "<style scoped>\n",
       "    .dataframe tbody tr th:only-of-type {\n",
       "        vertical-align: middle;\n",
       "    }\n",
       "\n",
       "    .dataframe tbody tr th {\n",
       "        vertical-align: top;\n",
       "    }\n",
       "\n",
       "    .dataframe thead th {\n",
       "        text-align: right;\n",
       "    }\n",
       "</style>\n",
       "<table border=\"1\" class=\"dataframe\">\n",
       "  <thead>\n",
       "    <tr style=\"text-align: right;\">\n",
       "      <th></th>\n",
       "      <th>trade_id</th>\n",
       "      <th>user_id</th>\n",
       "      <th>conf_date</th>\n",
       "      <th>leg_1_type</th>\n",
       "      <th>leg_1_amount</th>\n",
       "      <th>leg_1_conf_status</th>\n",
       "      <th>leg_2_type</th>\n",
       "      <th>leg_2_amount</th>\n",
       "      <th>leg_2_conf_status</th>\n",
       "      <th>Rank</th>\n",
       "      <th>Name</th>\n",
       "      <th>Symbol</th>\n",
       "      <th>Market Cap</th>\n",
       "      <th>Price</th>\n",
       "      <th>Circulating Supply</th>\n",
       "      <th>Volume(24h)</th>\n",
       "      <th>% 1h</th>\n",
       "      <th>% 24h</th>\n",
       "      <th>% 7d</th>\n",
       "    </tr>\n",
       "  </thead>\n",
       "  <tbody>\n",
       "    <tr>\n",
       "      <th>0</th>\n",
       "      <td>641OKk454dVpm</td>\n",
       "      <td>960tveyimat</td>\n",
       "      <td>2022-01-03</td>\n",
       "      <td>Ethereum Classic</td>\n",
       "      <td>124.19</td>\n",
       "      <td>pending</td>\n",
       "      <td>Illuvium</td>\n",
       "      <td>Unknown</td>\n",
       "      <td>pending</td>\n",
       "      <td>23</td>\n",
       "      <td>Ethereum Classic</td>\n",
       "      <td>ETC</td>\n",
       "      <td>$2,890,392,739</td>\n",
       "      <td>$20.64</td>\n",
       "      <td>140,066,798 ETC</td>\n",
       "      <td>$223,642,879</td>\n",
       "      <td>0.62%</td>\n",
       "      <td>5.88%</td>\n",
       "      <td>9.51%</td>\n",
       "    </tr>\n",
       "    <tr>\n",
       "      <th>1</th>\n",
       "      <td>998INa6jZZi1V</td>\n",
       "      <td>960tveyimat</td>\n",
       "      <td>2022-03-23</td>\n",
       "      <td>IOTA</td>\n",
       "      <td>67.69</td>\n",
       "      <td>pending</td>\n",
       "      <td>Neo</td>\n",
       "      <td>Unknown</td>\n",
       "      <td>pending</td>\n",
       "      <td>78</td>\n",
       "      <td>IOTA</td>\n",
       "      <td>MIOTA</td>\n",
       "      <td>$600,427,401</td>\n",
       "      <td>$0.22</td>\n",
       "      <td>2,779,530,283 MIOTA *</td>\n",
       "      <td>$11,693,882</td>\n",
       "      <td>0.72%</td>\n",
       "      <td>6.65%</td>\n",
       "      <td>2.52%</td>\n",
       "    </tr>\n",
       "    <tr>\n",
       "      <th>2</th>\n",
       "      <td>534VKk0D7QNdU</td>\n",
       "      <td>960tveyimat</td>\n",
       "      <td>2022-06-03</td>\n",
       "      <td>Ethereum Classic</td>\n",
       "      <td>14.55</td>\n",
       "      <td>pending</td>\n",
       "      <td>LINK</td>\n",
       "      <td>Unknown</td>\n",
       "      <td>pending</td>\n",
       "      <td>23</td>\n",
       "      <td>Ethereum Classic</td>\n",
       "      <td>ETC</td>\n",
       "      <td>$2,890,392,739</td>\n",
       "      <td>$20.64</td>\n",
       "      <td>140,066,798 ETC</td>\n",
       "      <td>$223,642,879</td>\n",
       "      <td>0.62%</td>\n",
       "      <td>5.88%</td>\n",
       "      <td>9.51%</td>\n",
       "    </tr>\n",
       "  </tbody>\n",
       "</table>\n",
       "</div>"
      ],
      "text/plain": [
       "        trade_id      user_id   conf_date        leg_1_type  leg_1_amount  \\\n",
       "0  641OKk454dVpm  960tveyimat  2022-01-03  Ethereum Classic        124.19   \n",
       "1  998INa6jZZi1V  960tveyimat  2022-03-23              IOTA         67.69   \n",
       "2  534VKk0D7QNdU  960tveyimat  2022-06-03  Ethereum Classic         14.55   \n",
       "\n",
       "  leg_1_conf_status leg_2_type leg_2_amount leg_2_conf_status  Rank  \\\n",
       "0           pending   Illuvium      Unknown           pending    23   \n",
       "1           pending        Neo      Unknown           pending    78   \n",
       "2           pending       LINK      Unknown           pending    23   \n",
       "\n",
       "               Name Symbol       Market Cap    Price     Circulating Supply  \\\n",
       "0  Ethereum Classic    ETC  $2,890,392,739   $20.64         140,066,798 ETC   \n",
       "1              IOTA  MIOTA    $600,427,401    $0.22   2,779,530,283 MIOTA *   \n",
       "2  Ethereum Classic    ETC  $2,890,392,739   $20.64         140,066,798 ETC   \n",
       "\n",
       "     Volume(24h)   % 1h  % 24h   % 7d  \n",
       "0  $223,642,879   0.62%  5.88%  9.51%  \n",
       "1   $11,693,882   0.72%  6.65%  2.52%  \n",
       "2  $223,642,879   0.62%  5.88%  9.51%  "
      ]
     },
     "execution_count": 21,
     "metadata": {},
     "output_type": "execute_result"
    }
   ],
   "source": [
    "# merging our datasets\n",
    "\n",
    "df_pre_merged = pd.merge(df_pre_mod, df_cryptos,\n",
    "                     left_on = 'leg_1_type', right_on = 'Name', how = 'left')\n",
    "\n",
    "df_pre_merged.head(3)"
   ]
  },
  {
   "cell_type": "code",
   "execution_count": 22,
   "id": "5a410e1d",
   "metadata": {
    "scrolled": true
   },
   "outputs": [
    {
     "data": {
      "text/html": [
       "<div>\n",
       "<style scoped>\n",
       "    .dataframe tbody tr th:only-of-type {\n",
       "        vertical-align: middle;\n",
       "    }\n",
       "\n",
       "    .dataframe tbody tr th {\n",
       "        vertical-align: top;\n",
       "    }\n",
       "\n",
       "    .dataframe thead th {\n",
       "        text-align: right;\n",
       "    }\n",
       "</style>\n",
       "<table border=\"1\" class=\"dataframe\">\n",
       "  <thead>\n",
       "    <tr style=\"text-align: right;\">\n",
       "      <th></th>\n",
       "      <th>trade_id</th>\n",
       "      <th>user_id</th>\n",
       "      <th>conf_date</th>\n",
       "      <th>leg_1_type</th>\n",
       "      <th>leg_1_amount</th>\n",
       "      <th>leg_1_conf_status</th>\n",
       "      <th>leg_2_type</th>\n",
       "      <th>leg_2_amount</th>\n",
       "      <th>leg_2_conf_status</th>\n",
       "      <th>price_usd</th>\n",
       "    </tr>\n",
       "  </thead>\n",
       "  <tbody>\n",
       "    <tr>\n",
       "      <th>0</th>\n",
       "      <td>641OKk454dVpm</td>\n",
       "      <td>960tveyimat</td>\n",
       "      <td>2022-01-03</td>\n",
       "      <td>Ethereum Classic</td>\n",
       "      <td>124.19</td>\n",
       "      <td>pending</td>\n",
       "      <td>Illuvium</td>\n",
       "      <td>Unknown</td>\n",
       "      <td>pending</td>\n",
       "      <td>$20.64</td>\n",
       "    </tr>\n",
       "    <tr>\n",
       "      <th>1</th>\n",
       "      <td>998INa6jZZi1V</td>\n",
       "      <td>960tveyimat</td>\n",
       "      <td>2022-03-23</td>\n",
       "      <td>IOTA</td>\n",
       "      <td>67.69</td>\n",
       "      <td>pending</td>\n",
       "      <td>Neo</td>\n",
       "      <td>Unknown</td>\n",
       "      <td>pending</td>\n",
       "      <td>$0.22</td>\n",
       "    </tr>\n",
       "    <tr>\n",
       "      <th>2</th>\n",
       "      <td>534VKk0D7QNdU</td>\n",
       "      <td>960tveyimat</td>\n",
       "      <td>2022-06-03</td>\n",
       "      <td>Ethereum Classic</td>\n",
       "      <td>14.55</td>\n",
       "      <td>pending</td>\n",
       "      <td>LINK</td>\n",
       "      <td>Unknown</td>\n",
       "      <td>pending</td>\n",
       "      <td>$20.64</td>\n",
       "    </tr>\n",
       "  </tbody>\n",
       "</table>\n",
       "</div>"
      ],
      "text/plain": [
       "        trade_id      user_id   conf_date        leg_1_type  leg_1_amount  \\\n",
       "0  641OKk454dVpm  960tveyimat  2022-01-03  Ethereum Classic        124.19   \n",
       "1  998INa6jZZi1V  960tveyimat  2022-03-23              IOTA         67.69   \n",
       "2  534VKk0D7QNdU  960tveyimat  2022-06-03  Ethereum Classic         14.55   \n",
       "\n",
       "  leg_1_conf_status leg_2_type leg_2_amount leg_2_conf_status price_usd  \n",
       "0           pending   Illuvium      Unknown           pending   $20.64   \n",
       "1           pending        Neo      Unknown           pending    $0.22   \n",
       "2           pending       LINK      Unknown           pending   $20.64   "
      ]
     },
     "execution_count": 22,
     "metadata": {},
     "output_type": "execute_result"
    }
   ],
   "source": [
    "# Adding the Price variable from our new df to our original dataset\n",
    "\n",
    "df_pre_mod['price_usd'] = df_pre_merged['Price']\n",
    "\n",
    "df_pre_mod.head(3)"
   ]
  },
  {
   "cell_type": "code",
   "execution_count": 23,
   "id": "32a5b0ef",
   "metadata": {},
   "outputs": [],
   "source": [
    "# remove the string symbol\n",
    "df_pre_mod['price_usd'] = df_pre_mod['price_usd'].str.replace('$','')\n",
    "\n",
    "# convert to float data type\n",
    "df_pre_mod['price_usd'] = df_pre_mod['price_usd'].astype(float)"
   ]
  },
  {
   "cell_type": "code",
   "execution_count": 24,
   "id": "56055974",
   "metadata": {
    "scrolled": true
   },
   "outputs": [
    {
     "data": {
      "text/html": [
       "<div>\n",
       "<style scoped>\n",
       "    .dataframe tbody tr th:only-of-type {\n",
       "        vertical-align: middle;\n",
       "    }\n",
       "\n",
       "    .dataframe tbody tr th {\n",
       "        vertical-align: top;\n",
       "    }\n",
       "\n",
       "    .dataframe thead th {\n",
       "        text-align: right;\n",
       "    }\n",
       "</style>\n",
       "<table border=\"1\" class=\"dataframe\">\n",
       "  <thead>\n",
       "    <tr style=\"text-align: right;\">\n",
       "      <th></th>\n",
       "      <th>trade_id</th>\n",
       "      <th>user_id</th>\n",
       "      <th>conf_date</th>\n",
       "      <th>leg_1_type</th>\n",
       "      <th>leg_1_amount</th>\n",
       "      <th>leg_1_conf_status</th>\n",
       "      <th>leg_2_type</th>\n",
       "      <th>leg_2_amount</th>\n",
       "      <th>leg_2_conf_status</th>\n",
       "      <th>price_usd</th>\n",
       "      <th>total_usd</th>\n",
       "    </tr>\n",
       "  </thead>\n",
       "  <tbody>\n",
       "    <tr>\n",
       "      <th>0</th>\n",
       "      <td>641OKk454dVpm</td>\n",
       "      <td>960tveyimat</td>\n",
       "      <td>2022-01-03</td>\n",
       "      <td>Ethereum Classic</td>\n",
       "      <td>124.19</td>\n",
       "      <td>pending</td>\n",
       "      <td>Illuvium</td>\n",
       "      <td>Unknown</td>\n",
       "      <td>pending</td>\n",
       "      <td>20.64</td>\n",
       "      <td>2563.2816</td>\n",
       "    </tr>\n",
       "    <tr>\n",
       "      <th>1</th>\n",
       "      <td>998INa6jZZi1V</td>\n",
       "      <td>960tveyimat</td>\n",
       "      <td>2022-03-23</td>\n",
       "      <td>IOTA</td>\n",
       "      <td>67.69</td>\n",
       "      <td>pending</td>\n",
       "      <td>Neo</td>\n",
       "      <td>Unknown</td>\n",
       "      <td>pending</td>\n",
       "      <td>0.22</td>\n",
       "      <td>14.8918</td>\n",
       "    </tr>\n",
       "    <tr>\n",
       "      <th>2</th>\n",
       "      <td>534VKk0D7QNdU</td>\n",
       "      <td>960tveyimat</td>\n",
       "      <td>2022-06-03</td>\n",
       "      <td>Ethereum Classic</td>\n",
       "      <td>14.55</td>\n",
       "      <td>pending</td>\n",
       "      <td>LINK</td>\n",
       "      <td>Unknown</td>\n",
       "      <td>pending</td>\n",
       "      <td>20.64</td>\n",
       "      <td>300.3120</td>\n",
       "    </tr>\n",
       "  </tbody>\n",
       "</table>\n",
       "</div>"
      ],
      "text/plain": [
       "        trade_id      user_id   conf_date        leg_1_type  leg_1_amount  \\\n",
       "0  641OKk454dVpm  960tveyimat  2022-01-03  Ethereum Classic        124.19   \n",
       "1  998INa6jZZi1V  960tveyimat  2022-03-23              IOTA         67.69   \n",
       "2  534VKk0D7QNdU  960tveyimat  2022-06-03  Ethereum Classic         14.55   \n",
       "\n",
       "  leg_1_conf_status leg_2_type leg_2_amount leg_2_conf_status  price_usd  \\\n",
       "0           pending   Illuvium      Unknown           pending      20.64   \n",
       "1           pending        Neo      Unknown           pending       0.22   \n",
       "2           pending       LINK      Unknown           pending      20.64   \n",
       "\n",
       "   total_usd  \n",
       "0  2563.2816  \n",
       "1    14.8918  \n",
       "2   300.3120  "
      ]
     },
     "execution_count": 24,
     "metadata": {},
     "output_type": "execute_result"
    }
   ],
   "source": [
    "# create a new column to calculate the \"Total Value per Crypto in USD\"\n",
    "\n",
    "df_pre_mod['total_usd'] = df_pre_mod['leg_1_amount'] * df_pre_mod['price_usd']\n",
    "\n",
    "df_pre_mod.head(3)"
   ]
  },
  {
   "cell_type": "code",
   "execution_count": 25,
   "id": "bf015be5",
   "metadata": {
    "scrolled": true
   },
   "outputs": [
    {
     "data": {
      "text/html": [
       "<div>\n",
       "<style scoped>\n",
       "    .dataframe tbody tr th:only-of-type {\n",
       "        vertical-align: middle;\n",
       "    }\n",
       "\n",
       "    .dataframe tbody tr th {\n",
       "        vertical-align: top;\n",
       "    }\n",
       "\n",
       "    .dataframe thead th {\n",
       "        text-align: right;\n",
       "    }\n",
       "</style>\n",
       "<table border=\"1\" class=\"dataframe\">\n",
       "  <thead>\n",
       "    <tr style=\"text-align: right;\">\n",
       "      <th></th>\n",
       "      <th>trade_id</th>\n",
       "      <th>user_id</th>\n",
       "      <th>conf_date</th>\n",
       "      <th>leg_1_type</th>\n",
       "      <th>leg_1_amount</th>\n",
       "      <th>leg_1_conf_status</th>\n",
       "      <th>leg_2_type</th>\n",
       "      <th>leg_2_amount</th>\n",
       "      <th>leg_2_conf_status</th>\n",
       "      <th>price_usd</th>\n",
       "      <th>total_usd</th>\n",
       "    </tr>\n",
       "  </thead>\n",
       "  <tbody>\n",
       "    <tr>\n",
       "      <th>1</th>\n",
       "      <td>998INa6jZZi1V</td>\n",
       "      <td>960tveyimat</td>\n",
       "      <td>2022-03-23</td>\n",
       "      <td>IOTA</td>\n",
       "      <td>67.69</td>\n",
       "      <td>pending</td>\n",
       "      <td>Neo</td>\n",
       "      <td>Unknown</td>\n",
       "      <td>pending</td>\n",
       "      <td>0.22</td>\n",
       "      <td>14.8918</td>\n",
       "    </tr>\n",
       "    <tr>\n",
       "      <th>4</th>\n",
       "      <td>746XtaP7aPos5</td>\n",
       "      <td>960tveyimat</td>\n",
       "      <td>2022-02-05</td>\n",
       "      <td>IOTA</td>\n",
       "      <td>112.02</td>\n",
       "      <td>pending</td>\n",
       "      <td>Avalanche</td>\n",
       "      <td>Unknown</td>\n",
       "      <td>pending</td>\n",
       "      <td>0.22</td>\n",
       "      <td>24.6444</td>\n",
       "    </tr>\n",
       "    <tr>\n",
       "      <th>14</th>\n",
       "      <td>829Px5YIuDW0J</td>\n",
       "      <td>960tveyimat</td>\n",
       "      <td>2022-03-02</td>\n",
       "      <td>IOTA</td>\n",
       "      <td>95.56</td>\n",
       "      <td>confirmed</td>\n",
       "      <td>GMX</td>\n",
       "      <td>Unknown</td>\n",
       "      <td>confirmed</td>\n",
       "      <td>0.22</td>\n",
       "      <td>21.0232</td>\n",
       "    </tr>\n",
       "  </tbody>\n",
       "</table>\n",
       "</div>"
      ],
      "text/plain": [
       "         trade_id      user_id   conf_date leg_1_type  leg_1_amount  \\\n",
       "1   998INa6jZZi1V  960tveyimat  2022-03-23       IOTA         67.69   \n",
       "4   746XtaP7aPos5  960tveyimat  2022-02-05       IOTA        112.02   \n",
       "14  829Px5YIuDW0J  960tveyimat  2022-03-02       IOTA         95.56   \n",
       "\n",
       "   leg_1_conf_status leg_2_type leg_2_amount leg_2_conf_status  price_usd  \\\n",
       "1            pending        Neo      Unknown           pending       0.22   \n",
       "4            pending  Avalanche      Unknown           pending       0.22   \n",
       "14         confirmed        GMX      Unknown         confirmed       0.22   \n",
       "\n",
       "    total_usd  \n",
       "1     14.8918  \n",
       "4     24.6444  \n",
       "14    21.0232  "
      ]
     },
     "execution_count": 25,
     "metadata": {},
     "output_type": "execute_result"
    }
   ],
   "source": [
    "# testing our new dataset with a random currency, e.g. IOTA\n",
    "\n",
    "# [price_usd] and [total_usd] correctly indicate the individual price of the cryptocurrency,\n",
    "# and the total price based on the amount traded respectively.\n",
    "\n",
    "df_pre_mod[df_pre_mod['leg_1_type'] == 'IOTA'].head(3)"
   ]
  },
  {
   "cell_type": "markdown",
   "id": "08bc3540",
   "metadata": {},
   "source": [
    "#### Post-Module Dataset:"
   ]
  },
  {
   "cell_type": "markdown",
   "id": "ca02194d",
   "metadata": {},
   "source": [
    "Similar feature engineering for our second, post-module dataframe."
   ]
  },
  {
   "cell_type": "code",
   "execution_count": 26,
   "id": "6e2da1a6",
   "metadata": {
    "scrolled": true
   },
   "outputs": [],
   "source": [
    "# merging datasets\n",
    "df_post_merged = pd.merge(df_post_mod, df_cryptos,\n",
    "                     left_on = 'leg_1_type', right_on = 'Name', how = 'left')\n",
    "\n",
    "# Adding the Price variable from the new df to the original dataset\n",
    "df_post_mod['price_usd'] = df_post_merged['Price']\n",
    "\n",
    "# remove the string symbol\n",
    "df_post_mod['price_usd'] = df_post_mod['price_usd'].str.replace('$','')\n",
    "\n",
    "# convert to float data type\n",
    "df_post_mod['price_usd'] = df_post_mod['price_usd'].astype(float)\n",
    "\n",
    "# create a new column to calculate the \"Total Value per Crypto in USD\"\n",
    "df_post_mod['total_usd'] = df_post_mod['leg_1_amount'] * df_post_mod['price_usd']"
   ]
  },
  {
   "cell_type": "code",
   "execution_count": 27,
   "id": "cd84ab6d",
   "metadata": {
    "scrolled": false
   },
   "outputs": [
    {
     "data": {
      "text/html": [
       "<div>\n",
       "<style scoped>\n",
       "    .dataframe tbody tr th:only-of-type {\n",
       "        vertical-align: middle;\n",
       "    }\n",
       "\n",
       "    .dataframe tbody tr th {\n",
       "        vertical-align: top;\n",
       "    }\n",
       "\n",
       "    .dataframe thead th {\n",
       "        text-align: right;\n",
       "    }\n",
       "</style>\n",
       "<table border=\"1\" class=\"dataframe\">\n",
       "  <thead>\n",
       "    <tr style=\"text-align: right;\">\n",
       "      <th></th>\n",
       "      <th>trade_id</th>\n",
       "      <th>user_id</th>\n",
       "      <th>conf_date</th>\n",
       "      <th>leg_1_type</th>\n",
       "      <th>leg_1_amount</th>\n",
       "      <th>leg_1_conf_status</th>\n",
       "      <th>leg_2_type</th>\n",
       "      <th>leg_2_amount</th>\n",
       "      <th>leg_2_conf_status</th>\n",
       "      <th>price_usd</th>\n",
       "      <th>total_usd</th>\n",
       "    </tr>\n",
       "  </thead>\n",
       "  <tbody>\n",
       "    <tr>\n",
       "      <th>0</th>\n",
       "      <td>723caaXA0YO7c</td>\n",
       "      <td>811rbsjbfvi</td>\n",
       "      <td>2022-08-27</td>\n",
       "      <td>GMX</td>\n",
       "      <td>64.37</td>\n",
       "      <td>confirmed</td>\n",
       "      <td>GateToken</td>\n",
       "      <td>Unknown</td>\n",
       "      <td>confirmed</td>\n",
       "      <td>76.48</td>\n",
       "      <td>4923.0176</td>\n",
       "    </tr>\n",
       "    <tr>\n",
       "      <th>1</th>\n",
       "      <td>703OgOAauuRk5</td>\n",
       "      <td>811rbsjbfvi</td>\n",
       "      <td>2022-10-25</td>\n",
       "      <td>Solana</td>\n",
       "      <td>91.48</td>\n",
       "      <td>confirmed</td>\n",
       "      <td>Bitcoin SV</td>\n",
       "      <td>Unknown</td>\n",
       "      <td>confirmed</td>\n",
       "      <td>22.10</td>\n",
       "      <td>2021.7080</td>\n",
       "    </tr>\n",
       "    <tr>\n",
       "      <th>2</th>\n",
       "      <td>909tUGkUOeulV</td>\n",
       "      <td>811rbsjbfvi</td>\n",
       "      <td>2022-09-29</td>\n",
       "      <td>Solana</td>\n",
       "      <td>274.81</td>\n",
       "      <td>pending</td>\n",
       "      <td>Gnosis</td>\n",
       "      <td>Unknown</td>\n",
       "      <td>pending</td>\n",
       "      <td>22.10</td>\n",
       "      <td>6073.3010</td>\n",
       "    </tr>\n",
       "  </tbody>\n",
       "</table>\n",
       "</div>"
      ],
      "text/plain": [
       "        trade_id      user_id   conf_date leg_1_type  leg_1_amount  \\\n",
       "0  723caaXA0YO7c  811rbsjbfvi  2022-08-27        GMX         64.37   \n",
       "1  703OgOAauuRk5  811rbsjbfvi  2022-10-25     Solana         91.48   \n",
       "2  909tUGkUOeulV  811rbsjbfvi  2022-09-29     Solana        274.81   \n",
       "\n",
       "  leg_1_conf_status  leg_2_type leg_2_amount leg_2_conf_status  price_usd  \\\n",
       "0         confirmed   GateToken      Unknown         confirmed      76.48   \n",
       "1         confirmed  Bitcoin SV      Unknown         confirmed      22.10   \n",
       "2           pending      Gnosis      Unknown           pending      22.10   \n",
       "\n",
       "   total_usd  \n",
       "0  4923.0176  \n",
       "1  2021.7080  \n",
       "2  6073.3010  "
      ]
     },
     "execution_count": 27,
     "metadata": {},
     "output_type": "execute_result"
    }
   ],
   "source": [
    "df_post_mod.head(3)"
   ]
  },
  {
   "cell_type": "markdown",
   "id": "a7797655",
   "metadata": {},
   "source": [
    "### 3.3.2 Slicing off 1st Quartile / 25% percentile for both datasets"
   ]
  },
  {
   "cell_type": "markdown",
   "id": "49d237bf",
   "metadata": {},
   "source": [
    "Now that we have a unified unit of measurement we may proceed with our feature engineering and subtract the lowest quartile."
   ]
  },
  {
   "cell_type": "code",
   "execution_count": 28,
   "id": "28fa358e",
   "metadata": {},
   "outputs": [],
   "source": [
    "# Pre-module\n",
    "\n",
    "# Groupby [user_id] to retrieve a full sum() rundown of [total_usd] \n",
    "pre_q1 = df_pre_mod.groupby(['user_id'])['total_usd'].sum().sort_values(ascending=True)\n",
    "\n",
    "# slicing off the 1st quartile\n",
    "pre_q1 = pre_q1[pre_q1 > pre_q1.quantile(0.25)]\n",
    "\n",
    "# retrieving the index (i.e. the remainder user IDs that exist in the 2nd quartile and above)\n",
    "pre_q1_index = pre_q1.index\n",
    "\n",
    "# filtering our user IDs in the original dataset\n",
    "df_pre = df_pre_mod[df_pre_mod['user_id'].isin(pre_q1_index)]"
   ]
  },
  {
   "cell_type": "code",
   "execution_count": 29,
   "id": "78e7b87c",
   "metadata": {},
   "outputs": [],
   "source": [
    "# Post-module\n",
    "\n",
    "# Groupby [user_id] to retrieve a full sum() rundown of [total_usd] \n",
    "post_q1 = df_post_mod.groupby(['user_id'])['total_usd'].sum().sort_values(ascending=True)\n",
    "\n",
    "# slicing off the 1st quartile\n",
    "post_q1 = post_q1[post_q1 > post_q1.quantile(0.25)]\n",
    "\n",
    "# retrieving the index (i.e. the remainder user IDs that exist in the 2nd quartile and above)\n",
    "post_q1_index = post_q1.index\n",
    "\n",
    "# filtering our user IDs in the original dataset\n",
    "df_post = df_post_mod[df_post_mod['user_id'].isin(post_q1_index)]"
   ]
  },
  {
   "cell_type": "markdown",
   "id": "43987fc2",
   "metadata": {},
   "source": [
    "### 3.3.4 Timeframe Slicing"
   ]
  },
  {
   "cell_type": "markdown",
   "id": "25450377",
   "metadata": {},
   "source": [
    "We should now focus on balancing the timeframe between the two dataframes. Although this step is optional, it would make our methodology more precise and enable us to compare the two dataframes in an exact timeframe. The objective in this section is to have the same timeframe in both groups.\n",
    "\n",
    "For example, if after the experimental intervention (in our case the application module upgrades) if one group received +1 month of treatment compared to the other group, then one could possibly raise the point that the samples were not properly balanced.\n",
    "\n",
    "Even if the number of observations remain the same, the timeframe is greatly extended in one group.\n",
    "\n",
    "We should also note at this point that every scientist may use their own methodology for each specific problem."
   ]
  },
  {
   "cell_type": "code",
   "execution_count": 30,
   "id": "5596d3e8",
   "metadata": {},
   "outputs": [
    {
     "name": "stdout",
     "output_type": "stream",
     "text": [
      "\n",
      "Start date in pre-module dataframe: 2022-01-01\n",
      "End date in pre-module dataframe: 2022-06-29\n",
      "\n",
      "--> Modules deployed on date: 2022-07-01\n",
      "\n",
      "Start date in post-module dataframe: 2022-07-01\n",
      "End date in post-module dataframe: 2022-11-28\n"
     ]
    }
   ],
   "source": [
    "print(f\"\\nStart date in pre-module dataframe: {df_pre_mod['conf_date'].min()}\")\n",
    "print(f\"End date in pre-module dataframe: {df_pre_mod['conf_date'].max()}\\n\")\n",
    "print(f\"--> Modules deployed on date: {df_post_mod['conf_date'].min()}\\n\")\n",
    "print(f\"Start date in post-module dataframe: {df_post_mod['conf_date'].min()}\")\n",
    "print(f\"End date in post-module dataframe: {df_post_mod['conf_date'].max()}\")"
   ]
  },
  {
   "cell_type": "code",
   "execution_count": 31,
   "id": "f270deb2",
   "metadata": {},
   "outputs": [
    {
     "name": "stdout",
     "output_type": "stream",
     "text": [
      "Differences between the two datasets:\n",
      "\n",
      "Duration of pre-module period: 179 days\n",
      "Duration of post-module period: 150 days\n",
      "Days between end of pre-module and start of post-module: 2 days\n"
     ]
    }
   ],
   "source": [
    "from datetime import datetime\n",
    "\n",
    "pre_module_start = datetime.strptime('2022-01-01', '%Y-%m-%d')\n",
    "pre_module_end = datetime.strptime('2022-06-29', '%Y-%m-%d')\n",
    "post_module_start = datetime.strptime('2022-07-01', '%Y-%m-%d')\n",
    "post_module_end = datetime.strptime('2022-11-28', '%Y-%m-%d')\n",
    "\n",
    "pre_module_duration = pre_module_end - pre_module_start\n",
    "post_module_duration = post_module_end - post_module_start\n",
    "days_difference = post_module_start - pre_module_end\n",
    "\n",
    "print(\"Differences between the two datasets:\")\n",
    "\n",
    "print(f\"\\nDuration of pre-module period: {pre_module_duration.days} days\")\n",
    "print(f\"Duration of post-module period: {post_module_duration.days} days\")\n",
    "print(f\"Days between end of pre-module and start of post-module: {days_difference.days} days\")"
   ]
  },
  {
   "cell_type": "code",
   "execution_count": 32,
   "id": "aefee728",
   "metadata": {},
   "outputs": [
    {
     "name": "stdout",
     "output_type": "stream",
     "text": [
      "Duration of pre-module period: 5 months\n",
      "Duration of post-module period: 4 months\n",
      "Months between end of pre-module and start of post-module: 0 months\n"
     ]
    }
   ],
   "source": [
    "from dateutil.relativedelta import relativedelta\n",
    "\n",
    "pre_module_duration_in_months = relativedelta(pre_module_end, pre_module_start).months\n",
    "post_module_duration_in_months = relativedelta(post_module_end, post_module_start).months\n",
    "months_difference = relativedelta(post_module_start, pre_module_end).months\n",
    "\n",
    "print(f\"Duration of pre-module period: {pre_module_duration_in_months} months\")\n",
    "print(f\"Duration of post-module period: {post_module_duration_in_months} months\")\n",
    "print(f\"Months between end of pre-module and start of post-module: {months_difference} months\")"
   ]
  },
  {
   "cell_type": "markdown",
   "id": "acdc68a3",
   "metadata": {},
   "source": [
    "As we can see above there is a difference in the number of days between each group. We should aim to match the duration of both groups."
   ]
  },
  {
   "cell_type": "markdown",
   "id": "68142ecc",
   "metadata": {},
   "source": [
    "First we need to convert our columns to the datetime datatype since we are expected to perform a few operations with them\n"
   ]
  },
  {
   "cell_type": "code",
   "execution_count": 33,
   "id": "2b7d0136",
   "metadata": {},
   "outputs": [],
   "source": [
    "# original datasets\n",
    "df_pre_mod['conf_date'] = pd.to_datetime(df_pre_mod['conf_date'])\n",
    "df_post_mod['conf_date'] = pd.to_datetime(df_post_mod['conf_date'])\n",
    "\n",
    "# altered datasets\n",
    "df_pre['conf_date'] = pd.to_datetime(df_pre_mod['conf_date'])\n",
    "df_post['conf_date'] = pd.to_datetime(df_post_mod['conf_date'])"
   ]
  },
  {
   "cell_type": "markdown",
   "id": "0700bea0",
   "metadata": {},
   "source": [
    "There are a few ways to slice our data and select a specific amount of time period. We could easily use the following code for example which will slice our pre-module data for an exact 5-month period, so we can match it with our 5-month period in post-module time frame:"
   ]
  },
  {
   "cell_type": "code",
   "execution_count": 34,
   "id": "ccaca056",
   "metadata": {},
   "outputs": [],
   "source": [
    "df_pre_mod_test1 = df_pre[(df_pre['conf_date'] >= df_pre['conf_date'].min()) \n",
    "                        & (df_pre['conf_date'] <= pd.Timestamp('2022-05-29'))]"
   ]
  },
  {
   "cell_type": "markdown",
   "id": "e993948f",
   "metadata": {},
   "source": [
    "However, this means that we will select only the first 5 months in order and essentially slice off our very last month (June). While this will definitely get the job done if we are in hurry for some quick calculations, let us approach this more scientifically and select a randomized sample from a specific time period. In the code below, I use the time period difference we found above, to re-sample the first group, and equalize the two datasets."
   ]
  },
  {
   "cell_type": "code",
   "execution_count": 35,
   "id": "43878182",
   "metadata": {},
   "outputs": [],
   "source": [
    "import random\n",
    "import pandas as pd\n",
    "\n",
    "# Convert the date column to a pandas datetime object\n",
    "df_pre_mod['conf_date'] = pd.to_datetime(df_pre_mod['conf_date'])\n",
    "\n",
    "# Define the start and end dates\n",
    "start_date = df_pre_mod['conf_date'].min()\n",
    "end_date = df_pre_mod['conf_date'].max()\n",
    "\n",
    "# Generate a list of all dates between the start and end dates\n",
    "all_dates = pd.date_range(start=start_date, end=end_date, freq='D')\n",
    "\n",
    "# Sample 150 random dates from the list of all dates\n",
    "random_dates = random.sample(list(all_dates), 150)\n",
    "\n",
    "# Create a new DataFrame containing only the rows with the selected random dates\n",
    "df_pre_mod_test2 = df_pre[df_pre_mod['conf_date'].isin(random_dates)]"
   ]
  },
  {
   "cell_type": "markdown",
   "id": "c7c2fada",
   "metadata": {},
   "source": [
    "\n",
    "As mentioned above, this step is optional and in some cases it actually *SHOULD* be omitted.\n",
    "\n",
    "Let us assess if this is one of those cases."
   ]
  },
  {
   "cell_type": "code",
   "execution_count": 36,
   "id": "cea2a63f",
   "metadata": {},
   "outputs": [
    {
     "name": "stdout",
     "output_type": "stream",
     "text": [
      "\n",
      "Number of observations in pre-module dataframe without equalizing timeframe: 904\n",
      "\n",
      "Number of observations in pre-module dataframe after equalizing timeframe: 753\n",
      "\n",
      "Number of observations in post-module dataframe: 1532\n"
     ]
    }
   ],
   "source": [
    "print(f\"\\nNumber of observations in pre-module dataframe without equalizing timeframe: {len(df_pre)}\")\n",
    "print(f\"\\nNumber of observations in pre-module dataframe after equalizing timeframe: {len(df_pre_mod_test2)}\")\n",
    "print(f\"\\nNumber of observations in post-module dataframe: {len(df_post)}\")"
   ]
  },
  {
   "cell_type": "markdown",
   "id": "1aba1391",
   "metadata": {},
   "source": [
    "**Verdict:** As we can see above, we have almost +50% more observations in the post-module group. If we continue to slice our pre-module group we will only further exacerbate the already considerable difference in the number of observations.\n",
    "\n",
    "For this example, let us opt NOT to further slice down our number of pre-module observations. Thus, trading more data entries in one group, at the expense of +1 month of data gathering: a worthy trade-off, even in a real-case scenario."
   ]
  },
  {
   "cell_type": "markdown",
   "id": "f6304201",
   "metadata": {},
   "source": [
    "# 4. Statistical examination"
   ]
  },
  {
   "cell_type": "markdown",
   "id": "1fb03d14",
   "metadata": {},
   "source": [
    "Finally, after all this pre-processing, feature engineering, EDA and methodology outlining we can proceed with assumption testing and statistical examination."
   ]
  },
  {
   "cell_type": "markdown",
   "id": "7eb1bffa",
   "metadata": {},
   "source": [
    "## 4.1. Standard Visual Examination of Distributions"
   ]
  },
  {
   "cell_type": "markdown",
   "id": "00e4018f",
   "metadata": {},
   "source": [
    "First, even though there is little chance of it, let's see if we may utilize any parametric tests.\n",
    "\n",
    "Let's start with a visual inspection of our distributions."
   ]
  },
  {
   "cell_type": "code",
   "execution_count": 39,
   "id": "3393e804",
   "metadata": {
    "scrolled": false
   },
   "outputs": [
    {
     "data": {
      "image/png": "[encoded data removed]",
      "text/plain": [
       "<Figure size 720x432 with 1 Axes>"
      ]
     },
     "metadata": {
      "needs_background": "light"
     },
     "output_type": "display_data"
    }
   ],
   "source": [
    "x1 = df_pre['user_id'].value_counts()\n",
    "\n",
    "fig, ax = plt.subplots(figsize=(10, 6))\n",
    "plt.hist(x1, color='#008B8B', edgecolor = '#8B008B', alpha=0.8)\n",
    "plt.title('Pre-Module Number of Transactions', size = 13)\n",
    "plt.xlabel('Number of User Transactions per User')\n",
    "plt.ylabel('Frequency')\n",
    "\n",
    "plt.grid(axis='y', alpha=0.85)\n",
    "plt.xticks(fontsize=10)\n",
    "plt.yticks(fontsize=10)\n",
    "\n",
    "ax = plt.gca()\n",
    "ax.set_facecolor('#EEE8AA')"
   ]
  },
  {
   "cell_type": "code",
   "execution_count": 40,
   "id": "b8332baf",
   "metadata": {
    "scrolled": false
   },
   "outputs": [
    {
     "data": {
      "image/png": "[encoded data removed]",
      "text/plain": [
       "<Figure size 720x432 with 1 Axes>"
      ]
     },
     "metadata": {
      "needs_background": "light"
     },
     "output_type": "display_data"
    }
   ],
   "source": [
    "x2 = df_post['user_id'].value_counts()\n",
    "\n",
    "fig, ax = plt.subplots(figsize=(10, 6))\n",
    "plt.hist(x2, color='#008B8B', edgecolor = '#8B008B', alpha=0.8)\n",
    "plt.title('Post-Module Number of Transactions', size = 13)\n",
    "plt.xlabel('Number of User Transactions per User')\n",
    "plt.ylabel('Frequency')\n",
    "\n",
    "plt.grid(axis='y', alpha=0.85)\n",
    "plt.xticks(fontsize=10)\n",
    "plt.yticks(fontsize=10)\n",
    "\n",
    "ax = plt.gca()\n",
    "ax.set_facecolor('#EEE8AA')"
   ]
  },
  {
   "cell_type": "markdown",
   "id": "aeed27f2",
   "metadata": {},
   "source": [
    "### 4.2 Normality Testing with Shapiro-Wilk test"
   ]
  },
  {
   "cell_type": "markdown",
   "id": "cb2b9db3",
   "metadata": {},
   "source": [
    "Simply by examining the histograms above we can clearly see that the assumption of normality for distributions has been violated, but us actually do the statistical testing in code. Let us check again for normality (i.e. normal distribution) using the Shapiro-Wilk test."
   ]
  },
  {
   "cell_type": "code",
   "execution_count": 41,
   "id": "ba9765f6",
   "metadata": {},
   "outputs": [],
   "source": [
    "x1 = df_pre['user_id'].value_counts()\n",
    "x2 = df_post['user_id'].value_counts()"
   ]
  },
  {
   "cell_type": "code",
   "execution_count": 42,
   "id": "0d48875d",
   "metadata": {},
   "outputs": [
    {
     "name": "stdout",
     "output_type": "stream",
     "text": [
      "Statistics=0.926, p=0.000\n",
      "We reject the Null Hypothesis of the Shapiro-Wilk test. \n",
      "This means that the distribution of pre-module group does not look Gaussian\n",
      "\n",
      "Statistics=0.904, p=0.000\n",
      "We reject the Null Hypothesis of the Shapiro-Wilk test. \n",
      "This means that the distribution of post-module group does not look Gaussian\n"
     ]
    }
   ],
   "source": [
    "# Shapiro-Wilk test for normality\n",
    "\n",
    "# Pre-Module group\n",
    "stat, p = stats.shapiro(x1)\n",
    "print('Statistics=%.3f, p=%.3f' % (stat, p))\n",
    "alpha = 0.05\n",
    "if p > alpha:\n",
    "    print('We fail to reject the Null Hypothesis H0 of the Shapiro-Wilk test. \\nThis means that the distribution of the pre-module group sample appears to be Gaussian ')\n",
    "else:\n",
    "    print('We reject the Null Hypothesis of the Shapiro-Wilk test. \\nThis means that the distribution of pre-module group does not look Gaussian')\n",
    "    \n",
    "# For second group\n",
    "stat, p = stats.shapiro(x2)\n",
    "print('\\nStatistics=%.3f, p=%.3f' % (stat, p))\n",
    "alpha = 0.05\n",
    "if p > alpha:\n",
    "    print('We fail to reject the Null Hypothesis H0 of the Shapiro-Wilk test. \\nThis means that the distribution of the post-module group sample appears to be Gaussian ')\n",
    "else:\n",
    "    print('We reject the Null Hypothesis of the Shapiro-Wilk test. \\nThis means that the distribution of post-module group does not look Gaussian')\n",
    "    "
   ]
  },
  {
   "cell_type": "markdown",
   "id": "a65039ce",
   "metadata": {},
   "source": [
    "## 4.3 Homogeneity of variance - Levene's test"
   ]
  },
  {
   "cell_type": "markdown",
   "id": "e1de3233",
   "metadata": {},
   "source": [
    "**What does this mean?**\n",
    "\n",
    "As expected, both of our groups do not have a normal distribution, therefore we cannot use a student's t-test to assess whether there is any statistical significance between our two groups. Instead of a parametric t-test we will have to make due with a non-parametric test.\n",
    "\n",
    "Next item in the agenda: testing for homogeneity of variance with Levene's test."
   ]
  },
  {
   "cell_type": "code",
   "execution_count": 43,
   "id": "b6ba6b5d",
   "metadata": {},
   "outputs": [
    {
     "name": "stdout",
     "output_type": "stream",
     "text": [
      "Statistics=2.210, p=0.138\n",
      "Variances between pre-module and post-module groups are equal: we fail to reject the Null Hypothesis of Levenes test)\n"
     ]
    }
   ],
   "source": [
    "stat, p = stats.levene(x1, x2)\n",
    "print('Statistics=%.3f, p=%.3f' % (stat, p))\n",
    "alpha = 0.05\n",
    "if p > alpha:\n",
    "    print('Variances between pre-module and post-module groups are equal: we fail to reject the Null Hypothesis of Levene''s test)')\n",
    "else:\n",
    "    print('Variances between pre-module and post-module groups are not equal: we reject the Null Hypothesis of Levene''s test)')"
   ]
  },
  {
   "cell_type": "markdown",
   "id": "3dfeca2d",
   "metadata": {},
   "source": [
    "**What does this mean?**\n",
    "\n",
    "Since the variances between our two groups are equal in Levene's test this means that we can use the Mann-Whitney U test which is relatively robust.\n",
    "\n",
    "If the above test also failed and the variances where not equal in Levene's test we would have to choose another non-parametric test like Welch's t-test, which does not assume equal variances."
   ]
  },
  {
   "cell_type": "code",
   "execution_count": 44,
   "id": "b276a394",
   "metadata": {},
   "outputs": [
    {
     "name": "stdout",
     "output_type": "stream",
     "text": [
      "We reject the Null Hypothesis of the Mann-Whitney U test. \n",
      "This means that there is significant difference between the pre-module and post-module groups.\n"
     ]
    }
   ],
   "source": [
    "from scipy.stats import mannwhitneyu\n",
    "\n",
    "# Mann-Whitney U for significance testing\n",
    "\n",
    "stat, p = mannwhitneyu(x1, x2)\n",
    "alpha = 0.05\n",
    "if p > alpha:\n",
    "    print('We fail to reject the Null Hypothesis of the Mann-Whitney U test. \\nThis means that there is no significant difference between the pre-module and post-module groups.')\n",
    "else:\n",
    "    print('We reject the Null Hypothesis of the Mann-Whitney U test. \\nThis means that there is significant difference between the pre-module and post-module groups.')\n",
    "    "
   ]
  },
  {
   "cell_type": "markdown",
   "id": "9ea2157d",
   "metadata": {},
   "source": [
    "Our analysis is completed.\n",
    "\n",
    "We performed a mandatory exploratory data analysis, uncovered a prevalent issue in our hypothetical application, constructed an extensive methodology, outlined our key choices step by step, clearly stated the theory and hypotheses setting, and performed statistical testing proving that there are no statistically significant results between the introduction of the new modules and the pre-module time period. As such, we may construct our report and assist our colleagues correct our newfound app issues."
   ]
  }
 ],
 "metadata": {
  "kernelspec": {
   "display_name": "Python 3 (ipykernel)",
   "language": "python",
   "name": "python3"
  },
  "language_info": {
   "codemirror_mode": {
    "name": "ipython",
    "version": 3
   },
   "file_extension": ".py",
   "mimetype": "text/x-python",
   "name": "python",
   "nbconvert_exporter": "python",
   "pygments_lexer": "ipython3",
   "version": "3.9.12"
  }
 },
 "nbformat": 4,
 "nbformat_minor": 5
}
